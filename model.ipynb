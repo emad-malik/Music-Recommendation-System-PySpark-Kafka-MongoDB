{
 "cells": [
  {
   "cell_type": "markdown",
   "metadata": {},
   "source": [
    "## Reading Data From MongoDB ##"
   ]
  },
  {
   "cell_type": "code",
   "execution_count": 1,
   "metadata": {},
   "outputs": [],
   "source": [
    "import pandas as pd\n",
    "import numpy as np\n",
    "import librosa\n",
    "import librosa.display\n",
    "from python_speech_features import sigproc\n",
    "from scipy.fftpack import dct\n",
    "import os\n",
    "from pymongo import MongoClient\n",
    "from sklearn.preprocessing import StandardScaler"
   ]
  },
  {
   "cell_type": "code",
   "execution_count": 2,
   "metadata": {},
   "outputs": [],
   "source": [
    "# connecting to MongoDB\n",
    "client= MongoClient('mongodb://localhost:27017')\n",
    "mongo_database= client['AudioFeatures']\n",
    "collection_name= mongo_database['features_collection']\n",
    "read_data= collection_name.find()\n",
    "data_list= list(read_data)\n",
    "audio_df= pd.DataFrame(data_list)"
   ]
  },
  {
   "cell_type": "markdown",
   "metadata": {},
   "source": [
    "## Data Preparation ##"
   ]
  },
  {
   "cell_type": "code",
   "execution_count": 5,
   "metadata": {},
   "outputs": [],
   "source": [
    "audio_df['flat_features']= audio_df['mfcc_features'].apply(lambda x: [item for sublist in x for item in sublist])\n",
    "min_length= audio_df['flat_features'].apply(len).min()\n",
    "audio_df['truncated_features']= audio_df['flat_features'].apply(lambda x: x[:min_length])\n",
    "mfcc_array= np.array(audio_df['truncated_features'].tolist())\n",
    "# standardize the data\n",
    "scaler= StandardScaler()\n",
    "mfcc_scaled= scaler.fit_transform(mfcc_array)\n",
    "audio_df['scaled_features']= list(mfcc_scaled)"
   ]
  },
  {
   "cell_type": "code",
   "execution_count": 7,
   "metadata": {},
   "outputs": [],
   "source": [
    "for index, row in audio_df.iterrows():\n",
    "    # update each document of db with new scaled features\n",
    "    collection_name.update_one(\n",
    "        {'_id': row['_id']},\n",
    "        {'$set': {'scaled_features': row['scaled_features'].tolist()}}\n",
    "    )"
   ]
  },
  {
   "cell_type": "code",
   "execution_count": null,
   "metadata": {},
   "outputs": [],
   "source": []
  }
 ],
 "metadata": {
  "kernelspec": {
   "display_name": "Python 3",
   "language": "python",
   "name": "python3"
  },
  "language_info": {
   "codemirror_mode": {
    "name": "ipython",
    "version": 3
   },
   "file_extension": ".py",
   "mimetype": "text/x-python",
   "name": "python",
   "nbconvert_exporter": "python",
   "pygments_lexer": "ipython3",
   "version": "3.10.12"
  }
 },
 "nbformat": 4,
 "nbformat_minor": 2
}
